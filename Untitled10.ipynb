{
  "nbformat": 4,
  "nbformat_minor": 0,
  "metadata": {
    "colab": {
      "name": "Untitled10.ipynb",
      "provenance": [],
      "authorship_tag": "ABX9TyMLs4XwgRGI6ymNmqcub+YG",
      "include_colab_link": true
    },
    "kernelspec": {
      "display_name": "Python 3",
      "name": "python3"
    },
    "language_info": {
      "name": "python"
    }
  },
  "cells": [
    {
      "cell_type": "markdown",
      "metadata": {
        "id": "view-in-github",
        "colab_type": "text"
      },
      "source": [
        "<a href=\"https://colab.research.google.com/github/Nithin46/PB-Discussion/blob/main/Untitled10.ipynb\" target=\"_parent\"><img src=\"https://colab.research.google.com/assets/colab-badge.svg\" alt=\"Open In Colab\"/></a>"
      ]
    },
    {
      "cell_type": "code",
      "metadata": {
        "colab": {
          "background_save": true,
          "base_uri": "https://localhost:8080/"
        },
        "id": "D01UfGT_rnWZ",
        "outputId": "2ae40f35-4e0e-413f-a8cb-c3a7515df690"
      },
      "source": [
        "!pip install findspark\n",
        "!pip install pyspark"
      ],
      "execution_count": null,
      "outputs": [
        {
          "name": "stdout",
          "output_type": "stream",
          "text": [
            "Collecting findspark\n",
            "  Downloading findspark-1.4.2-py2.py3-none-any.whl (4.2 kB)\n",
            "Installing collected packages: findspark\n",
            "Successfully installed findspark-1.4.2\n",
            "Collecting pyspark\n",
            "  Downloading pyspark-3.1.2.tar.gz (212.4 MB)\n",
            "\u001b[K     |████████████████████████████████| 212.4 MB 70 kB/s \n",
            "\u001b[?25hCollecting py4j==0.10.9\n",
            "  Downloading py4j-0.10.9-py2.py3-none-any.whl (198 kB)\n",
            "\u001b[K     |████████████████████████████████| 198 kB 47.2 MB/s \n",
            "\u001b[?25hBuilding wheels for collected packages: pyspark\n",
            "  Building wheel for pyspark (setup.py) ... \u001b[?25l\u001b[?25hdone\n",
            "  Created wheel for pyspark: filename=pyspark-3.1.2-py2.py3-none-any.whl size=212880768 sha256=81739d6a932fa24aa161c0512f384bb8a965a9e0d7f1e8d86a02ad039a58fee8\n",
            "  Stored in directory: /root/.cache/pip/wheels/a5/0a/c1/9561f6fecb759579a7d863dcd846daaa95f598744e71b02c77\n",
            "Successfully built pyspark\n",
            "Installing collected packages: py4j, pyspark\n",
            "Successfully installed py4j-0.10.9 pyspark-3.1.2\n"
          ]
        }
      ]
    },
    {
      "cell_type": "code",
      "metadata": {
        "id": "FNwAuiIor8j7"
      },
      "source": [
        "import pyspark\n",
        "from pyspark.sql import SparkSession\n",
        "spark = SparkSession.builder \\\n",
        "                    .master('local[1]') \\\n",
        "                    .appName('SparkByExamples.com') \\\n",
        "                    .getOrCreate()\n",
        "\n"
      ],
      "execution_count": null,
      "outputs": []
    },
    {
      "cell_type": "code",
      "metadata": {
        "id": "QGFI_bHHt1UR"
      },
      "source": [
        "df = spark.read.format('csv').load('/content/Sample-Spreadsheet-500000-rows.csv')\n"
      ],
      "execution_count": null,
      "outputs": []
    },
    {
      "cell_type": "code",
      "metadata": {
        "id": "OTP17ikFuFwY"
      },
      "source": [
        " df.write.json('/content/Sample_Spreadsheet_500000_rows_json1')\n"
      ],
      "execution_count": null,
      "outputs": []
    },
    {
      "cell_type": "code",
      "metadata": {
        "id": "Q5NwCjNUucUn"
      },
      "source": [
        "df.write.parquet('/content/Sample_Spreadsheet_500000_rows_parquet1')"
      ],
      "execution_count": null,
      "outputs": []
    },
    {
      "cell_type": "code",
      "metadata": {
        "colab": {
          "base_uri": "https://localhost:8080/"
        },
        "id": "r-PkiRNywngQ",
        "outputId": "18515a92-cc59-4f9c-d94d-089a3fb3a022"
      },
      "source": [
        "df_1 = spark.read.format('parquet').load('/content/Sample_Spreadsheet_500000_rows_parquet1')\n",
        "df_1.head(10)"
      ],
      "execution_count": null,
      "outputs": [
        {
          "data": {
            "text/plain": [
              "[Row(_c0='Eldon Base for stackable storage shelf, platinum', _c1='Muhammed MacIntyre', _c2='3', _c3='-213.25', _c4='38.94', _c5='35', _c6='Nunavut', _c7='Storage & Organization', _c8='0.8'),\n",
              " Row(_c0='\"1.7 Cubic Foot Compact \"\"Cube\"\" Office Refrigerators\"', _c1='Barry French', _c2='293', _c3='457.81', _c4='208.16', _c5='68.02', _c6='Nunavut', _c7='Appliances', _c8='0.58'),\n",
              " Row(_c0='Cardinal Slant-D� Ring Binder, Heavy Gauge Vinyl', _c1='Barry French', _c2='293', _c3='46.71', _c4='8.69', _c5='2.99', _c6='Nunavut', _c7='Binders and Binder Accessories', _c8='0.39'),\n",
              " Row(_c0='R380', _c1='Clay Rozendal', _c2='483', _c3='1198.97', _c4='195.99', _c5='3.99', _c6='Nunavut', _c7='Telephones and Communication', _c8='0.58'),\n",
              " Row(_c0='Holmes HEPA Air Purifier', _c1='Carlos Soltero', _c2='515', _c3='30.94', _c4='21.78', _c5='5.94', _c6='Nunavut', _c7='Appliances', _c8='0.5'),\n",
              " Row(_c0='G.E. Longer-Life Indoor Recessed Floodlight Bulbs', _c1='Carlos Soltero', _c2='515', _c3='4.43', _c4='6.64', _c5='4.95', _c6='Nunavut', _c7='Office Furnishings', _c8='0.37'),\n",
              " Row(_c0='Angle-D Binders with Locking Rings, Label Holders', _c1='Carl Jackson', _c2='613', _c3='-54.04', _c4='7.3', _c5='7.72', _c6='Nunavut', _c7='Binders and Binder Accessories', _c8='0.38'),\n",
              " Row(_c0='SAFCO Mobile Desk Side File, Wire Frame', _c1='Carl Jackson', _c2='613', _c3='127.7', _c4='42.76', _c5='6.22', _c6='Nunavut', _c7='Storage & Organization', _c8=None),\n",
              " Row(_c0='SAFCO Commercial Wire Shelving, Black', _c1='Monica Federle', _c2='643', _c3='-695.26', _c4='138.14', _c5='35', _c6='Nunavut', _c7='Storage & Organization', _c8=None),\n",
              " Row(_c0='Xerox 198', _c1='Dorothy Badders', _c2='678', _c3='-226.36', _c4='4.98', _c5='8.33', _c6='Nunavut', _c7='Paper', _c8='0.38')]"
            ]
          },
          "execution_count": 20,
          "metadata": {},
          "output_type": "execute_result"
        }
      ]
    },
    {
      "cell_type": "code",
      "metadata": {
        "colab": {
          "base_uri": "https://localhost:8080/"
        },
        "id": "Bf-zMrxMxI7t",
        "outputId": "9a33cb1a-7955-4799-8f7e-31b74181b4a8"
      },
      "source": [
        "df2 = spark.read.format('csv').load('/content/Sample-Spreadsheet-500000-rows.csv')\n",
        "df2.head(10)"
      ],
      "execution_count": null,
      "outputs": [
        {
          "data": {
            "text/plain": [
              "[Row(_c0='Eldon Base for stackable storage shelf, platinum', _c1='Muhammed MacIntyre', _c2='3', _c3='-213.25', _c4='38.94', _c5='35', _c6='Nunavut', _c7='Storage & Organization', _c8='0.8'),\n",
              " Row(_c0='\"1.7 Cubic Foot Compact \"\"Cube\"\" Office Refrigerators\"', _c1='Barry French', _c2='293', _c3='457.81', _c4='208.16', _c5='68.02', _c6='Nunavut', _c7='Appliances', _c8='0.58'),\n",
              " Row(_c0='Cardinal Slant-D� Ring Binder, Heavy Gauge Vinyl', _c1='Barry French', _c2='293', _c3='46.71', _c4='8.69', _c5='2.99', _c6='Nunavut', _c7='Binders and Binder Accessories', _c8='0.39'),\n",
              " Row(_c0='R380', _c1='Clay Rozendal', _c2='483', _c3='1198.97', _c4='195.99', _c5='3.99', _c6='Nunavut', _c7='Telephones and Communication', _c8='0.58'),\n",
              " Row(_c0='Holmes HEPA Air Purifier', _c1='Carlos Soltero', _c2='515', _c3='30.94', _c4='21.78', _c5='5.94', _c6='Nunavut', _c7='Appliances', _c8='0.5'),\n",
              " Row(_c0='G.E. Longer-Life Indoor Recessed Floodlight Bulbs', _c1='Carlos Soltero', _c2='515', _c3='4.43', _c4='6.64', _c5='4.95', _c6='Nunavut', _c7='Office Furnishings', _c8='0.37'),\n",
              " Row(_c0='Angle-D Binders with Locking Rings, Label Holders', _c1='Carl Jackson', _c2='613', _c3='-54.04', _c4='7.3', _c5='7.72', _c6='Nunavut', _c7='Binders and Binder Accessories', _c8='0.38'),\n",
              " Row(_c0='SAFCO Mobile Desk Side File, Wire Frame', _c1='Carl Jackson', _c2='613', _c3='127.7', _c4='42.76', _c5='6.22', _c6='Nunavut', _c7='Storage & Organization', _c8=None),\n",
              " Row(_c0='SAFCO Commercial Wire Shelving, Black', _c1='Monica Federle', _c2='643', _c3='-695.26', _c4='138.14', _c5='35', _c6='Nunavut', _c7='Storage & Organization', _c8=None),\n",
              " Row(_c0='Xerox 198', _c1='Dorothy Badders', _c2='678', _c3='-226.36', _c4='4.98', _c5='8.33', _c6='Nunavut', _c7='Paper', _c8='0.38')]"
            ]
          },
          "execution_count": 21,
          "metadata": {},
          "output_type": "execute_result"
        }
      ]
    }
  ]
}